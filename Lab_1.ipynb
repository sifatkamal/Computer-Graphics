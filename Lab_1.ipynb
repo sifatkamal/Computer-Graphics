{
  "nbformat": 4,
  "nbformat_minor": 0,
  "metadata": {
    "colab": {
      "provenance": []
    },
    "kernelspec": {
      "name": "python3",
      "display_name": "Python 3"
    },
    "language_info": {
      "name": "python"
    },
    "accelerator": "GPU"
  },
  "cells": [
    {
      "cell_type": "code",
      "source": [
        "!pip install tensorflow==1.15.0"
      ],
      "metadata": {
        "colab": {
          "base_uri": "https://localhost:8080/"
        },
        "id": "L3y0yGFYiWRI",
        "outputId": "5e4e0cbc-112e-4b2a-8534-5ae319d5bd4e"
      },
      "execution_count": null,
      "outputs": [
        {
          "output_type": "stream",
          "name": "stdout",
          "text": [
            "Looking in indexes: https://pypi.org/simple, https://us-python.pkg.dev/colab-wheels/public/simple/\n",
            "Requirement already satisfied: tensorflow==1.15.0 in /usr/local/lib/python3.7/dist-packages (1.15.0)\n",
            "Requirement already satisfied: numpy<2.0,>=1.16.0 in /usr/local/lib/python3.7/dist-packages (from tensorflow==1.15.0) (1.19.0)\n",
            "Requirement already satisfied: absl-py>=0.7.0 in /usr/local/lib/python3.7/dist-packages (from tensorflow==1.15.0) (1.3.0)\n",
            "Requirement already satisfied: opt-einsum>=2.3.2 in /usr/local/lib/python3.7/dist-packages (from tensorflow==1.15.0) (3.3.0)\n",
            "Requirement already satisfied: gast==0.2.2 in /usr/local/lib/python3.7/dist-packages (from tensorflow==1.15.0) (0.2.2)\n",
            "Requirement already satisfied: wrapt>=1.11.1 in /usr/local/lib/python3.7/dist-packages (from tensorflow==1.15.0) (1.14.1)\n",
            "Requirement already satisfied: grpcio>=1.8.6 in /usr/local/lib/python3.7/dist-packages (from tensorflow==1.15.0) (1.50.0)\n",
            "Requirement already satisfied: tensorboard<1.16.0,>=1.15.0 in /usr/local/lib/python3.7/dist-packages (from tensorflow==1.15.0) (1.15.0)\n",
            "Requirement already satisfied: keras-applications>=1.0.8 in /usr/local/lib/python3.7/dist-packages (from tensorflow==1.15.0) (1.0.8)\n",
            "Requirement already satisfied: six>=1.10.0 in /usr/local/lib/python3.7/dist-packages (from tensorflow==1.15.0) (1.15.0)\n",
            "Requirement already satisfied: keras-preprocessing>=1.0.5 in /usr/local/lib/python3.7/dist-packages (from tensorflow==1.15.0) (1.1.2)\n",
            "Requirement already satisfied: tensorflow-estimator==1.15.1 in /usr/local/lib/python3.7/dist-packages (from tensorflow==1.15.0) (1.15.1)\n",
            "Requirement already satisfied: protobuf>=3.6.1 in /usr/local/lib/python3.7/dist-packages (from tensorflow==1.15.0) (3.17.3)\n",
            "Requirement already satisfied: wheel>=0.26 in /usr/local/lib/python3.7/dist-packages (from tensorflow==1.15.0) (0.37.1)\n",
            "Requirement already satisfied: google-pasta>=0.1.6 in /usr/local/lib/python3.7/dist-packages (from tensorflow==1.15.0) (0.2.0)\n",
            "Requirement already satisfied: astor>=0.6.0 in /usr/local/lib/python3.7/dist-packages (from tensorflow==1.15.0) (0.8.1)\n",
            "Requirement already satisfied: termcolor>=1.1.0 in /usr/local/lib/python3.7/dist-packages (from tensorflow==1.15.0) (2.0.1)\n",
            "Requirement already satisfied: h5py in /usr/local/lib/python3.7/dist-packages (from keras-applications>=1.0.8->tensorflow==1.15.0) (3.1.0)\n",
            "Requirement already satisfied: werkzeug>=0.11.15 in /usr/local/lib/python3.7/dist-packages (from tensorboard<1.16.0,>=1.15.0->tensorflow==1.15.0) (1.0.1)\n",
            "Requirement already satisfied: setuptools>=41.0.0 in /usr/local/lib/python3.7/dist-packages (from tensorboard<1.16.0,>=1.15.0->tensorflow==1.15.0) (57.4.0)\n",
            "Requirement already satisfied: markdown>=2.6.8 in /usr/local/lib/python3.7/dist-packages (from tensorboard<1.16.0,>=1.15.0->tensorflow==1.15.0) (3.4.1)\n",
            "Requirement already satisfied: importlib-metadata>=4.4 in /usr/local/lib/python3.7/dist-packages (from markdown>=2.6.8->tensorboard<1.16.0,>=1.15.0->tensorflow==1.15.0) (4.13.0)\n",
            "Requirement already satisfied: zipp>=0.5 in /usr/local/lib/python3.7/dist-packages (from importlib-metadata>=4.4->markdown>=2.6.8->tensorboard<1.16.0,>=1.15.0->tensorflow==1.15.0) (3.9.0)\n",
            "Requirement already satisfied: typing-extensions>=3.6.4 in /usr/local/lib/python3.7/dist-packages (from importlib-metadata>=4.4->markdown>=2.6.8->tensorboard<1.16.0,>=1.15.0->tensorflow==1.15.0) (4.1.1)\n",
            "Requirement already satisfied: cached-property in /usr/local/lib/python3.7/dist-packages (from h5py->keras-applications>=1.0.8->tensorflow==1.15.0) (1.5.2)\n"
          ]
        }
      ]
    },
    {
      "cell_type": "code",
      "source": [
        "!pip install -q lucid>=0.2.3\n",
        "!pip install -q moviepy"
      ],
      "metadata": {
        "id": "YXv13t34XX7o"
      },
      "execution_count": null,
      "outputs": []
    },
    {
      "cell_type": "code",
      "source": [
        "!pip install imageio==2.4.1"
      ],
      "metadata": {
        "colab": {
          "base_uri": "https://localhost:8080/"
        },
        "id": "Eg1iOrd_FyrX",
        "outputId": "826826fe-44ac-428e-c94c-1e9f86123e15"
      },
      "execution_count": null,
      "outputs": [
        {
          "output_type": "stream",
          "name": "stdout",
          "text": [
            "Looking in indexes: https://pypi.org/simple, https://us-python.pkg.dev/colab-wheels/public/simple/\n",
            "Requirement already satisfied: imageio==2.4.1 in /usr/local/lib/python3.7/dist-packages (2.4.1)\n",
            "Requirement already satisfied: pillow in /usr/local/lib/python3.7/dist-packages (from imageio==2.4.1) (7.1.2)\n",
            "Requirement already satisfied: numpy in /usr/local/lib/python3.7/dist-packages (from imageio==2.4.1) (1.19.0)\n"
          ]
        }
      ]
    },
    {
      "cell_type": "code",
      "source": [
        "import numpy as np\n",
        "import json\n",
        "import moviepy.editor as mvp\n",
        "from google.colab import files\n",
        "import tensorflow.compat.v1.gfile as gfile\n",
        "import lucid.misc.io.showing as show"
      ],
      "metadata": {
        "id": "MuQfUYd6XYDH"
      },
      "execution_count": null,
      "outputs": []
    },
    {
      "cell_type": "code",
      "source": [
        "from lucid.misc.gl.glcontext import create_opengl_context\n",
        "\n",
        "# Now it's safe to import OpenGL and EGL functions\n",
        "import OpenGL.GL as gl\n",
        "from OpenGL.GLU import *\n",
        "\n",
        "# create_opengl_context() creates GL context that is attached to an\n",
        "# offscreen surface of specified size. Note that rendering to buffers\n",
        "# of different size and format is still possible with OpenGL Framebuffers.\n",
        "#\n",
        "# Users are expected to directly use EGL calls in case more advanced\n",
        "# context management is required.\n",
        "WIDTH, HEIGHT = 800,600\n",
        "create_opengl_context((WIDTH, HEIGHT))\n",
        "    \n",
        "# OpenGL context is available here.\n",
        "\n",
        "print(gl.glGetString(gl.GL_VERSION))\n",
        "print(gl.glGetString(gl.GL_VENDOR)) \n",
        "#print(gl.glGetString(gl.GL_EXTENSIONS))"
      ],
      "metadata": {
        "id": "-dC6f5NBXcNu",
        "colab": {
          "base_uri": "https://localhost:8080/"
        },
        "outputId": "33bf3a7b-7187-4309-a671-3e542635309b"
      },
      "execution_count": null,
      "outputs": [
        {
          "output_type": "stream",
          "name": "stdout",
          "text": [
            "b'4.6.0 NVIDIA 460.32.03'\n",
            "b'NVIDIA Corporation'\n"
          ]
        }
      ]
    },
    {
      "cell_type": "code",
      "source": [
        "def addVertex(a,b):\n",
        "    gl.glVertex2f( a/(WIDTH/2), b/(HEIGHT/2) )"
      ],
      "metadata": {
        "id": "ANi7Wf-hbL9Y"
      },
      "execution_count": null,
      "outputs": []
    },
    {
      "cell_type": "code",
      "source": [
        "gl.glClear(gl.GL_COLOR_BUFFER_BIT)\n",
        "\n",
        "gl.glColor3f(.5,.3,.7)\n",
        "gl.glPointSize(2)\n",
        "\n",
        "gl.glBegin(gl.GL_LINES)\n",
        "gl.glVertex2f(0,-1)\n",
        "gl.glVertex2f(0,1)\n",
        "gl.glVertex2f(1,0)\n",
        "gl.glVertex2f(-1,0)\n",
        "gl.glEnd()\n",
        "\n",
        "\n",
        "gl.glColor3f(100,100,100)\n",
        "\n",
        "import random\n",
        "\n",
        "gl.glPointSize(5)\n",
        "\n",
        "gl.glBegin(gl.GL_POINTS)\n",
        "\n",
        "\n",
        "\n",
        "for i in range(100):\n",
        "\n",
        "  X = random.uniform(-1, +1)  \n",
        "\n",
        "  Y = random.uniform(-1, +1)\n",
        "\n",
        "  gl.glVertex2f(X, Y)\n",
        "\n",
        "\n",
        "gl.glEnd()\n",
        "\n",
        "\n",
        "img_buf = gl.glReadPixelsub(0, 0, WIDTH, HEIGHT, gl.GL_RGB, gl.GL_UNSIGNED_BYTE)\n",
        "\n",
        "img = np.frombuffer(img_buf, np.uint8).reshape(HEIGHT, WIDTH, 3)[::-1]\n",
        "\n",
        "show.image(img/255.0)\n",
        "\n"
      ],
      "metadata": {
        "id": "fr74pM4SnqYe",
        "colab": {
          "base_uri": "https://localhost:8080/",
          "height": 621
        },
        "outputId": "9c75692c-8b6d-4400-e9fd-c712c2882858"
      },
      "execution_count": null,
      "outputs": [
        {
          "output_type": "display_data",
          "data": {
            "text/plain": [
              "<IPython.core.display.HTML object>"
            ],
            "text/html": [
              "<img src=\"data:image/PNG;base64,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\" style=\"image-rendering: pixelated; image-rendering: crisp-edges;\">"
            ]
          },
          "metadata": {}
        }
      ]
    },
    {
      "cell_type": "code",
      "source": [
        "gl.glClear(gl.GL_COLOR_BUFFER_BIT)\n",
        "\n",
        "\n",
        "gl.glBegin(gl.GL_LINES)\n",
        "\n",
        "#Roof\n",
        "\n",
        "addVertex(-120, 0)\n",
        "\n",
        "addVertex(0, 120)\n",
        "\n",
        "addVertex(0, 120)\n",
        "\n",
        "addVertex(120, 0)\n",
        "\n",
        "# Box\n",
        "\n",
        "addVertex(-120, 0)\n",
        "\n",
        "addVertex(-120, -240)\n",
        "\n",
        "addVertex(120, 0)\n",
        "\n",
        "addVertex(120, -240)\n",
        "\n",
        "addVertex(120, -240)\n",
        "\n",
        "addVertex(-120, -240)\n",
        "\n",
        "addVertex(-120, 0)\n",
        "\n",
        "addVertex(120, 0)\n",
        "\n",
        "#1st Window\n",
        "\n",
        "addVertex(-100, -50)\n",
        "\n",
        "addVertex(-100, -100)\n",
        "\n",
        "addVertex(-50, -50)\n",
        "\n",
        "addVertex(-50, -100)\n",
        "\n",
        "addVertex(-100, -50)\n",
        "\n",
        "addVertex(-50, -50)\n",
        "\n",
        "addVertex(-100, -100)\n",
        "\n",
        "addVertex(-50, -100)\n",
        "\n",
        "#2nd Window\n",
        "\n",
        "addVertex(100, -50)\n",
        "\n",
        "addVertex(100, -100)\n",
        "\n",
        "addVertex(50, -50)\n",
        "\n",
        "addVertex(50, -100)\n",
        "\n",
        "addVertex(100, -50)\n",
        "\n",
        "addVertex(50, -50)\n",
        "\n",
        "addVertex(100, -100)\n",
        "\n",
        "addVertex(50, -100)\n",
        "\n",
        "\n",
        "#Door\n",
        "\n",
        "addVertex(-30, -150)\n",
        "\n",
        "addVertex(-30, -240)\n",
        "\n",
        "addVertex(30, -150)\n",
        "\n",
        "addVertex(30, -240)\n",
        "\n",
        "addVertex(-30, -150)\n",
        "\n",
        "addVertex(30, -150)\n",
        "\n",
        "gl.glEnd()\n",
        "\n",
        "#Lock\n",
        "\n",
        "gl.glPointSize(3)\n",
        "\n",
        "gl.glBegin(gl.GL_POINTS)\n",
        "\n",
        "\n",
        "\n",
        "addVertex(20, -200)\n",
        "\n",
        "\n",
        "gl.glEnd()\n",
        "\n",
        "img_buf = gl.glReadPixelsub(0, 0, WIDTH, HEIGHT, gl.GL_RGB, gl.GL_UNSIGNED_BYTE)\n",
        "img = np.frombuffer(img_buf, np.uint8).reshape(HEIGHT, WIDTH, 3)[::-1]\n",
        "show.image(img/255.0)"
      ],
      "metadata": {
        "colab": {
          "base_uri": "https://localhost:8080/",
          "height": 621
        },
        "id": "3q9SDTwLi7eP",
        "outputId": "37811094-a58e-406d-95aa-290d9f4666a1"
      },
      "execution_count": null,
      "outputs": [
        {
          "output_type": "display_data",
          "data": {
            "text/plain": [
              "<IPython.core.display.HTML object>"
            ],
            "text/html": [
              "<img src=\"data:image/PNG;base64,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\" style=\"image-rendering: pixelated; image-rendering: crisp-edges;\">"
            ]
          },
          "metadata": {}
        }
      ]
    }
  ]
}