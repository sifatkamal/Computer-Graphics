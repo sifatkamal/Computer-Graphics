{
  "cells": [
    {
      "cell_type": "code",
      "execution_count": 10,
      "metadata": {
        "colab": {
          "base_uri": "https://localhost:8080/"
        },
        "id": "L3y0yGFYiWRI",
        "outputId": "638ca3e6-4c05-413d-da61-f9d8ae3dbda9"
      },
      "outputs": [
        {
          "output_type": "stream",
          "name": "stdout",
          "text": [
            "Looking in indexes: https://pypi.org/simple, https://us-python.pkg.dev/colab-wheels/public/simple/\n",
            "Requirement already satisfied: tensorflow==1.15.0 in /usr/local/lib/python3.7/dist-packages (1.15.0)\n",
            "Requirement already satisfied: tensorflow-estimator==1.15.1 in /usr/local/lib/python3.7/dist-packages (from tensorflow==1.15.0) (1.15.1)\n",
            "Requirement already satisfied: protobuf>=3.6.1 in /usr/local/lib/python3.7/dist-packages (from tensorflow==1.15.0) (3.19.6)\n",
            "Requirement already satisfied: six>=1.10.0 in /usr/local/lib/python3.7/dist-packages (from tensorflow==1.15.0) (1.15.0)\n",
            "Requirement already satisfied: wheel>=0.26 in /usr/local/lib/python3.7/dist-packages (from tensorflow==1.15.0) (0.38.3)\n",
            "Requirement already satisfied: numpy<2.0,>=1.16.0 in /usr/local/lib/python3.7/dist-packages (from tensorflow==1.15.0) (1.19.0)\n",
            "Requirement already satisfied: google-pasta>=0.1.6 in /usr/local/lib/python3.7/dist-packages (from tensorflow==1.15.0) (0.2.0)\n",
            "Requirement already satisfied: opt-einsum>=2.3.2 in /usr/local/lib/python3.7/dist-packages (from tensorflow==1.15.0) (3.3.0)\n",
            "Requirement already satisfied: keras-preprocessing>=1.0.5 in /usr/local/lib/python3.7/dist-packages (from tensorflow==1.15.0) (1.1.2)\n",
            "Requirement already satisfied: termcolor>=1.1.0 in /usr/local/lib/python3.7/dist-packages (from tensorflow==1.15.0) (2.1.0)\n",
            "Requirement already satisfied: gast==0.2.2 in /usr/local/lib/python3.7/dist-packages (from tensorflow==1.15.0) (0.2.2)\n",
            "Requirement already satisfied: wrapt>=1.11.1 in /usr/local/lib/python3.7/dist-packages (from tensorflow==1.15.0) (1.14.1)\n",
            "Requirement already satisfied: grpcio>=1.8.6 in /usr/local/lib/python3.7/dist-packages (from tensorflow==1.15.0) (1.50.0)\n",
            "Requirement already satisfied: keras-applications>=1.0.8 in /usr/local/lib/python3.7/dist-packages (from tensorflow==1.15.0) (1.0.8)\n",
            "Requirement already satisfied: tensorboard<1.16.0,>=1.15.0 in /usr/local/lib/python3.7/dist-packages (from tensorflow==1.15.0) (1.15.0)\n",
            "Requirement already satisfied: absl-py>=0.7.0 in /usr/local/lib/python3.7/dist-packages (from tensorflow==1.15.0) (1.3.0)\n",
            "Requirement already satisfied: astor>=0.6.0 in /usr/local/lib/python3.7/dist-packages (from tensorflow==1.15.0) (0.8.1)\n",
            "Requirement already satisfied: h5py in /usr/local/lib/python3.7/dist-packages (from keras-applications>=1.0.8->tensorflow==1.15.0) (3.1.0)\n",
            "Requirement already satisfied: markdown>=2.6.8 in /usr/local/lib/python3.7/dist-packages (from tensorboard<1.16.0,>=1.15.0->tensorflow==1.15.0) (3.4.1)\n",
            "Requirement already satisfied: werkzeug>=0.11.15 in /usr/local/lib/python3.7/dist-packages (from tensorboard<1.16.0,>=1.15.0->tensorflow==1.15.0) (1.0.1)\n",
            "Requirement already satisfied: setuptools>=41.0.0 in /usr/local/lib/python3.7/dist-packages (from tensorboard<1.16.0,>=1.15.0->tensorflow==1.15.0) (57.4.0)\n",
            "Requirement already satisfied: importlib-metadata>=4.4 in /usr/local/lib/python3.7/dist-packages (from markdown>=2.6.8->tensorboard<1.16.0,>=1.15.0->tensorflow==1.15.0) (4.13.0)\n",
            "Requirement already satisfied: zipp>=0.5 in /usr/local/lib/python3.7/dist-packages (from importlib-metadata>=4.4->markdown>=2.6.8->tensorboard<1.16.0,>=1.15.0->tensorflow==1.15.0) (3.10.0)\n",
            "Requirement already satisfied: typing-extensions>=3.6.4 in /usr/local/lib/python3.7/dist-packages (from importlib-metadata>=4.4->markdown>=2.6.8->tensorboard<1.16.0,>=1.15.0->tensorflow==1.15.0) (4.1.1)\n",
            "Requirement already satisfied: cached-property in /usr/local/lib/python3.7/dist-packages (from h5py->keras-applications>=1.0.8->tensorflow==1.15.0) (1.5.2)\n"
          ]
        }
      ],
      "source": [
        "!pip install tensorflow==1.15.0"
      ]
    },
    {
      "cell_type": "code",
      "execution_count": 8,
      "metadata": {
        "id": "YXv13t34XX7o"
      },
      "outputs": [],
      "source": [
        "!pip install -q lucid>=0.2.3\n",
        "!pip install -q moviepy"
      ]
    },
    {
      "cell_type": "code",
      "execution_count": 9,
      "metadata": {
        "colab": {
          "base_uri": "https://localhost:8080/"
        },
        "id": "Eg1iOrd_FyrX",
        "outputId": "47c407d8-f28c-45e7-f874-22b9c9e476b5"
      },
      "outputs": [
        {
          "output_type": "stream",
          "name": "stdout",
          "text": [
            "Looking in indexes: https://pypi.org/simple, https://us-python.pkg.dev/colab-wheels/public/simple/\n",
            "Requirement already satisfied: imageio==2.4.1 in /usr/local/lib/python3.7/dist-packages (2.4.1)\n",
            "Requirement already satisfied: numpy in /usr/local/lib/python3.7/dist-packages (from imageio==2.4.1) (1.19.0)\n",
            "Requirement already satisfied: pillow in /usr/local/lib/python3.7/dist-packages (from imageio==2.4.1) (7.1.2)\n"
          ]
        }
      ],
      "source": [
        "!pip install imageio==2.4.1"
      ]
    },
    {
      "cell_type": "code",
      "execution_count": 5,
      "metadata": {
        "id": "MuQfUYd6XYDH",
        "colab": {
          "base_uri": "https://localhost:8080/"
        },
        "outputId": "5688e1c0-9e66-47cf-8efe-9fc8fb90130b"
      },
      "outputs": [
        {
          "output_type": "stream",
          "name": "stdout",
          "text": [
            "Imageio: 'ffmpeg-linux64-v3.3.1' was not found on your computer; downloading it now.\n",
            "Try 1. Download from https://github.com/imageio/imageio-binaries/raw/master/ffmpeg/ffmpeg-linux64-v3.3.1 (43.8 MB)\n",
            "Downloading: 8192/45929032 bytes (0.0%)\b\b\b\b\b\b\b\b\b\b\b\b\b\b\b\b\b\b\b\b\b\b\b\b\b\b3817472/45929032 bytes (8.3%)\b\b\b\b\b\b\b\b\b\b\b\b\b\b\b\b\b\b\b\b\b\b\b\b\b\b\b\b\b7725056/45929032 bytes (16.8%)\b\b\b\b\b\b\b\b\b\b\b\b\b\b\b\b\b\b\b\b\b\b\b\b\b\b\b\b\b\b12058624/45929032 bytes (26.3%)\b\b\b\b\b\b\b\b\b\b\b\b\b\b\b\b\b\b\b\b\b\b\b\b\b\b\b\b\b\b\b15974400/45929032 bytes (34.8%)\b\b\b\b\b\b\b\b\b\b\b\b\b\b\b\b\b\b\b\b\b\b\b\b\b\b\b\b\b\b\b20037632/45929032 bytes (43.6%)\b\b\b\b\b\b\b\b\b\b\b\b\b\b\b\b\b\b\b\b\b\b\b\b\b\b\b\b\b\b\b24264704/45929032 bytes (52.8%)\b\b\b\b\b\b\b\b\b\b\b\b\b\b\b\b\b\b\b\b\b\b\b\b\b\b\b\b\b\b\b28303360/45929032 bytes (61.6%)\b\b\b\b\b\b\b\b\b\b\b\b\b\b\b\b\b\b\b\b\b\b\b\b\b\b\b\b\b\b\b32374784/45929032 bytes (70.5%)\b\b\b\b\b\b\b\b\b\b\b\b\b\b\b\b\b\b\b\b\b\b\b\b\b\b\b\b\b\b\b36552704/45929032 bytes (79.6%)\b\b\b\b\b\b\b\b\b\b\b\b\b\b\b\b\b\b\b\b\b\b\b\b\b\b\b\b\b\b\b39763968/45929032 bytes (86.6%)\b\b\b\b\b\b\b\b\b\b\b\b\b\b\b\b\b\b\b\b\b\b\b\b\b\b\b\b\b\b\b42983424/45929032 bytes (93.6%)\b\b\b\b\b\b\b\b\b\b\b\b\b\b\b\b\b\b\b\b\b\b\b\b\b\b\b\b\b\b\b45929032/45929032 bytes (100.0%)\n",
            "  Done\n",
            "File saved as /root/.imageio/ffmpeg/ffmpeg-linux64-v3.3.1.\n"
          ]
        }
      ],
      "source": [
        "import numpy as np\n",
        "import json\n",
        "import moviepy.editor as mvp\n",
        "from google.colab import files\n",
        "import tensorflow.compat.v1.gfile as gfile\n",
        "import lucid.misc.io.showing as show"
      ]
    },
    {
      "cell_type": "code",
      "execution_count": 7,
      "metadata": {
        "colab": {
          "base_uri": "https://localhost:8080/"
        },
        "id": "-dC6f5NBXcNu",
        "outputId": "520e0d56-6ff6-4418-f091-a14441063b4a"
      },
      "outputs": [
        {
          "output_type": "stream",
          "name": "stdout",
          "text": [
            "b'4.6.0 NVIDIA 460.32.03'\n",
            "b'NVIDIA Corporation'\n"
          ]
        }
      ],
      "source": [
        "from lucid.misc.gl.glcontext import create_opengl_context\n",
        "\n",
        "# Now it's safe to import OpenGL and EGL functions\n",
        "import OpenGL.GL as gl\n",
        "from OpenGL.GLU import *\n",
        "\n",
        "# create_opengl_context() creates GL context that is attached to an\n",
        "# offscreen surface of specified size. Note that rendering to buffers\n",
        "# of different size and format is still possible with OpenGL Framebuffers.\n",
        "#\n",
        "# Users are expected to directly use EGL calls in case more advanced\n",
        "# context management is required.\n",
        "WIDTH, HEIGHT = 800,600\n",
        "create_opengl_context((WIDTH, HEIGHT))\n",
        "    \n",
        "# OpenGL context is available here.\n",
        "\n",
        "print(gl.glGetString(gl.GL_VERSION))\n",
        "print(gl.glGetString(gl.GL_VENDOR)) \n",
        "#print(gl.glGetString(gl.GL_EXTENSIONS))"
      ]
    },
    {
      "cell_type": "code",
      "source": [
        "def DrawLine(x1, y1, x2, y2):\n",
        "\n",
        "  dx = x2 - x1\n",
        "\n",
        "  dy = y2 - y1\n",
        "\n",
        "  d = 2*dy -dx\n",
        "\n",
        "  incE = 2*dy\n",
        "\n",
        "  incNE = 2*(dy-dx)\n",
        "\n",
        "  y = y1\n",
        "\n",
        "  x = x1\n",
        "\n",
        "  if x2==x1:\n",
        "\n",
        "    while y<=y2:\n",
        "\n",
        "      WritePixel(x,y)\n",
        "\n",
        "      y += 0.01\n",
        "\n",
        "  else:\n",
        "\n",
        "    while x<=x2:\n",
        "\n",
        "      WritePixel(x,y)\n",
        "\n",
        "      if(d>0):\n",
        "\n",
        "        d = d + incNE\n",
        "\n",
        "        y +=0.01\n",
        "\n",
        "      else:\n",
        "\n",
        "        d = d + incE\n",
        "\n",
        "        x += 0.01\n",
        "\n",
        "def WritePixel(x, y):\n",
        "\n",
        "  gl.glBegin(gl.GL_POINTS)\n",
        "  \n",
        "  gl.glVertex2f(x, y)\n",
        "  \n",
        "  gl.glEnd()\n",
        "\n",
        "\n",
        "\n",
        "# Lines Start\n",
        "\n",
        "\n",
        "def top(x, y):\n",
        "\n",
        "  DrawLine(x, y, x+0.3, y)\n",
        "\n",
        "def mid(x, y):\n",
        "\n",
        "  DrawLine(x, y-0.5, x+0.3, y-0.5)\n",
        "\n",
        "def bottom(x, y):\n",
        "\n",
        "  DrawLine(x, y-1, x+0.3, y-1)\n",
        "\n",
        "def left_above(x,y):\n",
        "\n",
        "  DrawLine(x, y-0.5, x, y)\n",
        "\n",
        "def left_bottom(x, y):\n",
        "\n",
        "  DrawLine(x, y-1, x, y-0.5)\n",
        "\n",
        "def right_above(x,y):\n",
        "\n",
        "  DrawLine(x+0.3, y-0.5, x+0.3, y)\n",
        "\n",
        "def right_bottom(x, y):\n",
        "\n",
        "  DrawLine(x+0.3, y-1, x+0.3, y-0.5)\n",
        "\n",
        "\n",
        "# Lines Finish\n",
        "\n",
        "\n",
        "\n",
        "\n",
        "\n",
        "\n",
        "\n",
        "#Output\n",
        "\n",
        "def output(value, x, y):\n",
        "\n",
        "  if value == \"0\":\n",
        "\n",
        "    top(x, y)\n",
        "\n",
        "    right_above(x, y)\n",
        "\n",
        "    right_bottom(x, y)\n",
        "\n",
        "    left_above(x, y)\n",
        "\n",
        "    left_bottom(x, y)\n",
        "\n",
        "    bottom(x, y)\n",
        "\n",
        "  elif value == \"1\":\n",
        "\n",
        "    right_above(x, y)\n",
        "\n",
        "    right_bottom(x, y)\n",
        "\n",
        "  elif value == \"2\":\n",
        "\n",
        "    top(x, y)\n",
        "\n",
        "    right_above(x, y)\n",
        "\n",
        "    mid(x, y)\n",
        "\n",
        "    left_bottom(x, y)\n",
        "\n",
        "    bottom(x, y)\n",
        "\n",
        "  elif value == \"3\":\n",
        "\n",
        "    top(x, y)\n",
        "\n",
        "    right_above(x, y)\n",
        "\n",
        "    mid(x, y)\n",
        "\n",
        "    right_bottom(x, y)\n",
        "\n",
        "    bottom(x, y)\n",
        "\n",
        "  elif value == \"4\":\n",
        "\n",
        "    left_above(x, y)\n",
        "\n",
        "    mid(x, y)\n",
        "\n",
        "    right_above(x, y)\n",
        "\n",
        "    right_bottom(x, y)\n",
        "\n",
        "\n",
        "  elif value == \"5\":\n",
        "\n",
        "    top(x, y)\n",
        "\n",
        "    left_above(x, y)\n",
        "\n",
        "    mid(x, y)\n",
        "\n",
        "    right_bottom(x, y)\n",
        "    \n",
        "    bottom(x, y)\n",
        "\n",
        "\n",
        "  elif value == \"6\":\n",
        "\n",
        "    top(x, y)\n",
        "    \n",
        "    left_above(x, y)\n",
        "\n",
        "    left_bottom(x, y)\n",
        "\n",
        "    mid(x, y)\n",
        "    \n",
        "    right_bottom(x, y)\n",
        "    \n",
        "    bottom(x, y)\n",
        "\n",
        "  elif value == \"7\":\n",
        "\n",
        "    top(x, y)\n",
        "    \n",
        "    right_above(x, y)\n",
        "    \n",
        "    right_bottom(x, y)\n",
        "  \n",
        "  elif value == \"8\":\n",
        "\n",
        "    top(x, y)\n",
        "\n",
        "    left_above(x, y)\n",
        "\n",
        "    left_bottom(x, y)\n",
        "\n",
        "    mid(x, y)\n",
        "\n",
        "    right_above(x, y)\n",
        "\n",
        "    right_bottom(x, y)\n",
        "\n",
        "    bottom(x, y)\n",
        "\n",
        "  elif value == \"9\":\n",
        "\n",
        "    top(x, y)\n",
        "\n",
        "    left_above(x, y)\n",
        "\n",
        "    mid(x, y)\n",
        "\n",
        "    right_above(x,y)\n",
        "\n",
        "    right_bottom(x,y)\n",
        "    \n",
        "    bottom(x,y)\n",
        "\n",
        "\n",
        "\n",
        "\n",
        "\n",
        "\n",
        "gl.glClear(gl.GL_COLOR_BUFFER_BIT)\n",
        "\n",
        "gl.glColor3f(75,0,130)\n",
        "\n",
        "gl.glPointSize(8)\n",
        "\n",
        "ID = \"20101231\"\n",
        "\n",
        "ID = list(ID)\n",
        "\n",
        "last_1 = ID[-1]\n",
        "\n",
        "last_2 = ID[-2]\n",
        "\n",
        "output(last_2, -0.4, 0.5)\n",
        "\n",
        "output(last_1, 0, 0.5)\n"
      ],
      "metadata": {
        "id": "H_UgSM_nOxjt"
      },
      "execution_count": 178,
      "outputs": []
    },
    {
      "cell_type": "code",
      "source": [
        "img_buf = gl.glReadPixelsub(0, 0, WIDTH, HEIGHT, gl.GL_RGB, gl.GL_UNSIGNED_BYTE)\n",
        "\n",
        "img = np.frombuffer(img_buf, np.uint8).reshape(HEIGHT, WIDTH, 3)[::-1]\n",
        "\n",
        "show.image(img/255.0)"
      ],
      "metadata": {
        "colab": {
          "base_uri": "https://localhost:8080/",
          "height": 622
        },
        "id": "9bDzNSgAuzuN",
        "outputId": "8778f368-3fc1-4a37-dd78-6f213ba1eb3e"
      },
      "execution_count": 179,
      "outputs": [
        {
          "output_type": "display_data",
          "data": {
            "text/plain": [
              "<IPython.core.display.HTML object>"
            ],
            "text/html": [
              "<img src=\"data:image/PNG;base64,iVBORw0KGgoAAAANSUhEUgAAAyAAAAJYCAIAAAAVFBUnAAAIeElEQVR4nO3cQYqDQBBA0Xbw/lfurLOYIcTPFCbvnaBAlE+1uhYAAAAAAAAAAAAAAAAAAAAAAAAAAAAAAAAAAAAAAAAAAAAAAAAAAAAAAAAAAAAAAAAAAAAAAAAAAAAAAAAAAAAAAAAAAAAAAAAAAAAAAAAAAAAAAAAAAAAAAAAAAAAAAAAAAAAAAAAAAAAAAAAAAAAAAAAAAAAAAAAAAAAAAAAAAAAAAAAAAAAAAAAAAAAAAAAAAAAAAAAAAAAAAAAAAAAAAAAAAAAAAAAAAAAAAAAAAAAAAAAAAAAAAAAAAAAAAAAAAAAAAAAAAAAAAAAAAAAAAAAAAAAAAAAAAAAAAAAAAAAAAAAAAAAAAAAAAAAAAAAAAAAAAAAAAAAAAAAAAAAAAAAAAAAAAAAAAAAAAAAAAAAAAAAAAAAAAAAAAAAAAAAAAAAAAAAAAAAAAAAAAAAAAAAAAAAAAAAAAAAAAAAAAAAAAAAAAAAAAAAAAAAAAAAAAADc0TE9AFy1154e4escHh0Af/qZHgAA4NMILACAmD0/t+eIcJbjws/w233k+sJ7bLAAAGICCwAgJrAAAGICCwAgdk4PAFd5Cfd/+JgA4HU2WAAAMYEFABATWAAAMYEFABATWAAAMYEFABATWAAAMYEFABATWAAAMYEFABATWAAAMYEFABATWAAAMYEFABATWAAAMYEFABATWAAAMYEFABATWAAAMYEFABATWAAAMYEFABATWAAAMYEFABATWAAAMYEFABATWAAAMYEFABATWAAAMYEFABATWAAAMYEFABATWAAAMYEFABATWAAAMYEFABATWAAAMYEFABATWAAAMYEFABATWAAAMYEFABATWAAAMYEFABATWAAAMYEFABATWAAAMYEFABATWAAAMYEFABATWAAAMYEFABATWAAAMYEFABATWAAAMYEFABATWAAAMYEFABATWAAAMYEFABATWAAAMYEFABATWAAAMYEFABATWAAAMYEFABATWAAAMYEFABATWAAAMYEFABATWAAAMYEFABATWAAAMYEFABATWAAAMYEFABATWAAAMYEFABATWAAAMYEFABATWAAAMYEFABATWAAAMYEFABATWAAAMYEFABATWAAAMYEFABATWAAAMYEFABATWAAAMYEFABATWAAAMYEFABATWAAAMYEFABATWAAAMYEFABATWAAAMYEFABATWAAAMYEFABATWAAAMYEFABATWAAAMYEFABATWAAAMYEFABATWAAAMYEFABATWAAAMYEFABATWAAAMYEFABATWAAAMYEFABATWAAAMYEFABATWAAAMYEFABATWAAAMYEFABATWAAAMYEFABATWAAAMYEFABATWAAAMYEFABATWAAAMYEFABATWAAAMYEFABATWAAAMYEFABATWAAAMYEFABATWAAAMYEFABATWAAAMYEFABATWAAAsXN6ALhqrz09AgA8scECAIgJLACAmMACAIgJLACAmMACAIgJLACAmMACAIj5Dxa3d6xjeoSv4H9jAK+zwQIAiAksAICYwAIAiAksAICYwAIAiAksAICYwAIAiAksAICYwAIAiAksAICYwAIAiAksAICYwAIAiAksAICYwAIAiAksAICYwAIAiAksAICYwAIAiAksAICYwAIAiAksAICYwAIAiAksAICYwAIAiAksAICYwAIAiAksAICYwAIAiAksAICYwAIAiAksAICYwAIAiAksAICYwAIAiAksAICYwAIAiAksAICYwAIAiAksAICYwAIAiAksAICYwAIAiAksAICYwAIAiAksAICYwAIAiAksAICYwAIAiAksAICYwAIAiAksAICYwAIAiAksAICYwAIAiAksAICYwAIAiAksAICYwAIAiAksAICYwAIAiAksAICYwAIAiAksAICYwAIAiAksAICYwAIAiAksAICYwAIAiAksAICYwAIAiAksAICYwAIAiAksAICYwAIAiAksAICYwAIAiAksAICYwAIAiAksAICYwAIAiAksAICYwAIAiAksAICYwAIAiAksAICYwAIAiAksAICYwAIAiAksAICYwAIAiAksAICYwAIAiAksAICYwAIAiAksAICYwAIAiAksAICYwAIAiAksAICYwAIAiAksAICYwAIAiAksAICYwAIAiAksAICYwAIAiAksAICYwAIAiAksAICYwAIAiAksAICYwAIAiAksAICYwAIAiAksAICYwAIAiAksAICYwAIAiAksAICYwAIAiAksAICYwAIAiAksAICYwAIAiAksAICYwAIAiAksAICYwAIAiAksAICYwAIAiAksAICYwAIAiAksAICYwAIAiAksAICYwAIAiAksAICYwAIAiAksAICYwAIAiJ3TA8BVe+3pEQDgiQ0WAEBMYAEAxAQWAEBMYAEAxAQWAEBMYAEAxAQWAAAAAAAAAAAAAAAAAAAAAAAAAAAAAAAAAAAAAAAAAAAAAAAAAAAAAAAAAAAAAAAAAAAAAAAAAAAAAAAAAAAAAAAAAAAAAAAAAAAAAAAAAAAAAAAAAAAAAAAAAAAAAAAAAAAAAAAAAAAAAAAAAAAAAAAAAAAAAAAAAAAAAAAAAAAAAAAAAAAAAAAAAAAAAAAAAAAAAAAAAAAAAAAAAAAAAAAAAAAAAAAAAAAAAAAAAAAAAAAAAAAAAAAAAAAAAAAAAAAAAAAAAAAAAAAAAAAAAAAAAAAAAAAAAAAAAAAAAAAAAAAAAAAAAAAAAAAAAAAAAAAAAAAAAAAAAAAAAAAAAAAAAAAAAAAAAAAAAAAAAAAAAAAAAAAAAAAAAAAAAAAAAAAAAAAAAAAAAAAAAAAAAAAAAAAAAAAAAAAAAAAAAAAAAAAAAAAAAAAAAAAAAAAAAAAAAACw1noAZdQQazUvkicAAAAASUVORK5CYII=\" style=\"image-rendering: pixelated; image-rendering: crisp-edges;\">"
            ]
          },
          "metadata": {}
        }
      ]
    }
  ],
  "metadata": {
    "accelerator": "GPU",
    "colab": {
      "provenance": []
    },
    "kernelspec": {
      "display_name": "Python 3",
      "name": "python3"
    },
    "language_info": {
      "name": "python"
    }
  },
  "nbformat": 4,
  "nbformat_minor": 0
}
